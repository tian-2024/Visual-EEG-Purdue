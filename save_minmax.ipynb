{
 "cells": [
  {
   "cell_type": "code",
   "execution_count": 10,
   "metadata": {},
   "outputs": [],
   "source": [
    "import numpy as np\n",
    "import matplotlib.pyplot as plt\n",
    "from ipywidgets import interact, fixed\n",
    "import glob\n",
    "from torch.utils.data import Dataset\n",
    "import pickle\n",
    "from tqdm import tqdm"
   ]
  },
  {
   "cell_type": "code",
   "execution_count": 15,
   "metadata": {},
   "outputs": [],
   "source": [
    "def file_scanf(file_path):\n",
    "    return np.array(glob.glob(f\"/data1/share_data/purdue/{file_path}/*.pkl\"))\n",
    "\n",
    "\n",
    "class EEGDataset(Dataset):\n",
    "    def __init__(self, paths):\n",
    "        self.filepaths = paths\n",
    "        self.labels = [\n",
    "            int(fp.split(\"_\")[-1].replace(\".pkl\", \"\")) for fp in self.filepaths\n",
    "        ]\n",
    "\n",
    "    def __len__(self):\n",
    "        return len(self.filepaths)\n",
    "\n",
    "    def __getitem__(self, idx):\n",
    "        return self.load_data(self.filepaths[idx])\n",
    "\n",
    "    def load_data(self, filepath):\n",
    "\n",
    "        with open(filepath, \"rb\") as f:\n",
    "            x = pickle.load(f)\n",
    "            y = pickle.load(f)\n",
    "        return x, y\n",
    "\n",
    "\n",
    "# s1_raw_dataset = EEGDataset(file_scanf(\"s1_raw\"))\n",
    "# s1_trail_norm_dataset = EEGDataset(file_scanf(\"s1_trail_norm\"))\n",
    "# s1_time_norm_dataset = EEGDataset(file_scanf(\"s1_time_norm\"))\n",
    "# s1_robust_norm_dataset = EEGDataset(file_scanf(\"s1_robust_norm\"))\n",
    "# s1_robust_time_norm_dataset = EEGDataset(file_scanf(\"s1_robust_time_norm\"))\n",
    "# s1_01_trail_norm_dataset = EEGDataset(file_scanf(\"s1_01_trail_norm\"))\n",
    "# s1_gmm_trail_norm_dataset = EEGDataset(file_scanf(\"s1/gmm_trail_norm\"))\n",
    "# s1_gmm_time_norm_dataset = EEGDataset(file_scanf(\"s1/gmm_time_norm\"))\n",
    "full_raw_dataset = EEGDataset(file_scanf(\"raw\"))\n",
    "datasets = {\n",
    "    # \"raw\": s1_raw_dataset,\n",
    "    # \"trail_norm\": s1_trail_norm_dataset,\n",
    "    # \"time_norm\": s1_time_norm_dataset,\n",
    "    # \"robust_norm\": s1_robust_norm_dataset,\n",
    "    # \"robust_time_norm\": s1_robust_time_norm_dataset,\n",
    "    # \"s1_01_trail_norm\": s1_01_trail_norm_dataset,\n",
    "    # \"gmm_trail_norm\": s1_gmm_trail_norm_dataset,\n",
    "    # \"gmm_time_norm\": s1_gmm_time_norm_dataset,\n",
    "    \"raw_full\": full_raw_dataset\n",
    "}"
   ]
  },
  {
   "cell_type": "code",
   "execution_count": 16,
   "metadata": {},
   "outputs": [
    {
     "name": "stderr",
     "output_type": "stream",
     "text": [
      "100%|██████████| 40000/40000 [27:42<00:00, 24.06it/s] \n",
      "100%|██████████| 40000/40000 [27:42<00:00, 24.06it/s]\n"
     ]
    }
   ],
   "source": [
    "eeg_max_min = {}\n",
    "\n",
    "for key, dataset in datasets.items():\n",
    "\n",
    "    data = np.empty((40000, 96, 2048))\n",
    "    for i in tqdm(tqdm(range(40000))):\n",
    "        data[i] = dataset[i][0][:, ::4]\n",
    "\n",
    "    channel_max_values = np.max(data, axis=(2))\n",
    "    channel_min_values = np.min(data, axis=(2))\n",
    "    # channel_range_values = channel_max_values - channel_min_values\n",
    "\n",
    "    trail_max_values = np.max(channel_max_values, axis=(1))\n",
    "    trail_min_values = np.min(channel_min_values, axis=(1))\n",
    "    trail_range_values = trail_max_values - trail_min_values\n",
    "\n",
    "    eeg_max_min[key] = {\n",
    "        # \"channel_max_values\": channel_max_values,\n",
    "        # \"channel_min_values\": channel_min_values,\n",
    "        # \"channel_range_values\": channel_range_values,\n",
    "        # \"trail_max_values\": trail_max_values,\n",
    "        # \"trail_min_values\": trail_min_values,\n",
    "        \"trail_range_values\": trail_range_values,\n",
    "    }\n",
    "\n",
    "with open(\"s1_new_dataset.pkl\", \"wb\") as f:\n",
    "    pickle.dump(eeg_max_min, f)"
   ]
  },
  {
   "cell_type": "code",
   "execution_count": 17,
   "metadata": {},
   "outputs": [
    {
     "name": "stdout",
     "output_type": "stream",
     "text": [
      "dict_keys(['raw', 'trail_norm', 'time_norm', 'robust_norm', 'robust_time_norm', 's1_01_trail_norm', 'gmm_trail_norm', 'gmm_time_norm', 'raw_full'])\n",
      "dict_keys(['raw_full'])\n"
     ]
    }
   ],
   "source": [
    "import pickle\n",
    "\n",
    "# 读取pkl文件\n",
    "with open(\"eeg_max_min.pkl\", \"rb\") as file:\n",
    "    data = pickle.load(file)\n",
    "\n",
    "\n",
    "with open(\"s1_new_dataset.pkl\", \"rb\") as file:\n",
    "    data2 = pickle.load(file)\n",
    "\n",
    "data.update(data2)\n",
    "\n",
    "# 保存pkl文件\n",
    "with open(\"eeg_max_min.pkl\", \"wb\") as file:\n",
    "    pickle.dump(data, file)\n",
    "# 打印读取到的数据\n",
    "print(data.keys())\n",
    "print(data2.keys())"
   ]
  },
  {
   "cell_type": "code",
   "execution_count": 9,
   "metadata": {},
   "outputs": [
    {
     "name": "stdout",
     "output_type": "stream",
     "text": [
      "total 969M\n",
      "-rw-rw-r-- 1 junchao  94K 6月  21 19:20 618.ipynb\n",
      "-rw-rw-r-- 1 junchao  18M 6月  13 18:02 96x512_s1_time_norm.pptx\n",
      "-rw-rw-r-- 1 junchao  16M 6月  13 17:59 96x512_s1_trial_norm.pptx\n",
      "-rw-rw-r-- 1 junchao  17M 6月  13 18:09 96x512_s2_time_norm.pptx\n",
      "-rw-rw-r-- 1 junchao  15M 6月  13 18:03 96x512_s2_trial_norm.pptx\n",
      "-rw-rw-r-- 1 junchao  18M 6月  13 18:10 96x512_s3_time_norm.pptx\n",
      "-rw-rw-r-- 1 junchao  15M 6月  13 18:05 96x512_s3_trial_norm.pptx\n",
      "-rw-rw-r-- 1 junchao  13M 6月  14 17:58 96x512_s4_time_norm.pptx\n",
      "-rw-rw-r-- 1 junchao  15M 6月  13 18:07 96x512_s4_trial_norm.pptx\n",
      "-rw-rw-r-- 1 junchao  16M 6月  13 18:48 96x8192.pptx\n",
      "-rw-rw-r-- 1 junchao  16M 6月  13 17:47 96x8192_time_norm.pptx\n",
      "-rw-rw-r-- 1 junchao  15M 6月  13 17:44 96x8192_trial_norm.pptx\n",
      "-rw-rw-r-- 1 junchao 4.3K 6月  14 20:03 a.ipynb\n",
      "-rw-rw-r-- 1 junchao 7.0K 6月  21 20:43 app.py\n",
      "-rw-rw-r-- 1 junchao  40K 6月  14 20:03 b.ipynb\n",
      "-rw-rw-r-- 1 junchao  92K 6月  14 18:02 c.ipynb\n",
      "-rw-rw-r-- 1 junchao 622M 6月  21 20:48 eeg_max_min.pkl\n",
      "drwxrwxr-x 2 junchao 4.0K 6月  21 20:04 \u001b[0m\u001b[01;34mrepair_channel\u001b[0m/\n",
      "-rw-rw-r-- 1 junchao  89M 6月  19 21:42 s1_01_trail_norm_max_min.pkl\n",
      "-rw-rw-r-- 1 junchao  89M 6月  21 20:48 s1_gmm_trail_norm_dataset.pkl\n",
      "-rw-rw-r-- 1 junchao  38K 6月  17 18:34 s1普渡原数据.ipynb\n",
      "drwxrwxr-x 2 junchao 4.0K 6月  13 17:33 \u001b[01;34msaved_plots\u001b[0m/\n",
      "-rw-rw-r-- 1 junchao  11K 6月  21 20:45 save_minmax.ipynb\n",
      "drwxrwxr-x 2 junchao 4.0K 6月  17 21:02 \u001b[01;34mtemplates\u001b[0m/\n",
      "-rw-rw-r-- 1 junchao  47K 6月  17 17:17 time_norm的通道最值.ipynb\n",
      "-rw-rw-r-- 1 junchao 108K 6月  17 17:13 trail_norm.ipynb\n",
      "-rw-rw-r-- 1 junchao  35K 6月  19 18:53 原数据.ipynb\n",
      "-rw-rw-r-- 1 junchao  25K 6月  17 17:13 只画图.ipynb\n",
      "-rw-rw-r-- 1 junchao 4.3K 6月  19 18:53 对原数据找异常值.ipynb\n",
      "-rw-rw-r-- 1 junchao  64K 6月  19 18:53 异常数据的处理.ipynb\n",
      "-rw-rw-r-- 1 junchao  30K 6月  18 19:12 每个样本的每个通道的最值.ipynb\n",
      "-rw-rw-r-- 1 junchao  57K 6月  19 14:54 画原数据.ipynb\n",
      "-rw-rw-r-- 1 junchao  58K 6月  17 17:13 相似度矩阵.ipynb\n",
      "-rw-rw-r-- 1 junchao  18K 6月  17 18:34 鲁邦标准化.ipynb\n"
     ]
    }
   ],
   "source": [
    "ll -h"
   ]
  },
  {
   "cell_type": "code",
   "execution_count": null,
   "metadata": {},
   "outputs": [],
   "source": [
    "data[\"raw\"].keys()"
   ]
  },
  {
   "cell_type": "code",
   "execution_count": null,
   "metadata": {},
   "outputs": [],
   "source": [
    "data[\"raw\"][\"channel_max_values\"].shape, data[\"raw\"][\"trail_max_values\"].shape"
   ]
  },
  {
   "cell_type": "code",
   "execution_count": null,
   "metadata": {},
   "outputs": [],
   "source": [
    "plt.plot(data['raw']['trail_max_values'])"
   ]
  },
  {
   "cell_type": "code",
   "execution_count": null,
   "metadata": {},
   "outputs": [],
   "source": [
    "trail_max_values = data[\"raw\"][\"trail_max_values\"]\n",
    "indexes = np.where(trail_max_values > 100)[0]\n",
    "print(indexes)\n",
    "print(len(indexes))"
   ]
  },
  {
   "cell_type": "code",
   "execution_count": null,
   "metadata": {},
   "outputs": [],
   "source": [
    "with open(\"eeg_max_min.pkl\", \"rb\") as file:\n",
    "    eeg_max_min = pickle.load(file)"
   ]
  },
  {
   "cell_type": "code",
   "execution_count": null,
   "metadata": {},
   "outputs": [],
   "source": [
    "eeg_max_min.keys()"
   ]
  },
  {
   "cell_type": "code",
   "execution_count": null,
   "metadata": {},
   "outputs": [],
   "source": [
    "eeg_max_min['raw']['channel_range_values'].shape"
   ]
  },
  {
   "cell_type": "code",
   "execution_count": null,
   "metadata": {},
   "outputs": [],
   "source": [
    "(eeg_max_min['raw']['channel_range_values']<10).shape"
   ]
  },
  {
   "cell_type": "code",
   "execution_count": null,
   "metadata": {},
   "outputs": [],
   "source": [
    "# eeg_max_min['raw']['channel_range_values']<10\n",
    "np.where()"
   ]
  },
  {
   "cell_type": "code",
   "execution_count": null,
   "metadata": {},
   "outputs": [],
   "source": [
    "indices = np.where(eeg_max_min['raw']['channel_range_values']>20)\n",
    "\n",
    "# indices 将会是一个元组，包含两个数组，分别表示满足条件的元素的行和列下标\n",
    "print(len(indices[0]))"
   ]
  },
  {
   "cell_type": "code",
   "execution_count": null,
   "metadata": {},
   "outputs": [],
   "source": [
    "for i in range(len(indices[0])):\n",
    "    print(indices[0][i], indices[1][i])\n",
    "    if i > 100:\n",
    "        break"
   ]
  },
  {
   "cell_type": "code",
   "execution_count": null,
   "metadata": {},
   "outputs": [],
   "source": [
    "indices[0]"
   ]
  },
  {
   "cell_type": "code",
   "execution_count": null,
   "metadata": {},
   "outputs": [],
   "source": []
  }
 ],
 "metadata": {
  "kernelspec": {
   "display_name": "tian",
   "language": "python",
   "name": "python3"
  },
  "language_info": {
   "codemirror_mode": {
    "name": "ipython",
    "version": 3
   },
   "file_extension": ".py",
   "mimetype": "text/x-python",
   "name": "python",
   "nbconvert_exporter": "python",
   "pygments_lexer": "ipython3",
   "version": "3.11.9"
  }
 },
 "nbformat": 4,
 "nbformat_minor": 2
}
